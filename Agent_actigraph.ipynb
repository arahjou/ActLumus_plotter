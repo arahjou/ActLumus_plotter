{
 "cells": [
  {
   "cell_type": "code",
   "execution_count": 2,
   "id": "9bc9c649",
   "metadata": {},
   "outputs": [],
   "source": [
    "import pandas as pd\n",
    "\n",
    "df=pd.read_csv('data/SPECT.csv', header=0)"
   ]
  },
  {
   "cell_type": "code",
   "execution_count": 3,
   "id": "e47f912e",
   "metadata": {},
   "outputs": [
    {
     "data": {
      "application/vnd.microsoft.datawrangler.viewer.v0+json": {
       "columns": [
        {
         "name": "index",
         "rawType": "int64",
         "type": "integer"
        },
        {
         "name": "Timestamp",
         "rawType": "object",
         "type": "string"
        },
        {
         "name": "F1_415nm",
         "rawType": "float64",
         "type": "float"
        },
        {
         "name": "F2_445nm",
         "rawType": "float64",
         "type": "float"
        },
        {
         "name": "F3_480nm",
         "rawType": "float64",
         "type": "float"
        },
        {
         "name": "F4_515nm",
         "rawType": "float64",
         "type": "float"
        },
        {
         "name": "F5_555nm",
         "rawType": "float64",
         "type": "float"
        },
        {
         "name": "F6_590nm",
         "rawType": "float64",
         "type": "float"
        },
        {
         "name": "F7_630nm",
         "rawType": "float64",
         "type": "float"
        },
        {
         "name": "F8_680nm",
         "rawType": "float64",
         "type": "float"
        }
       ],
       "ref": "22847fba-6de7-476c-accc-5439ecef92b8",
       "rows": [
        [
         "0",
         "2025-07-30 14:42:29",
         "7.29",
         "21.14",
         "19.07",
         "55.82",
         "539.54",
         "164.93",
         "51.96",
         "35.46"
        ],
        [
         "1",
         "2025-07-30 14:43:29",
         "7.66",
         "12.83",
         "17.14",
         "21.83",
         "107.9",
         "46.34",
         "25.66",
         "26.28"
        ],
        [
         "2",
         "2025-07-30 14:44:29",
         "20.79",
         "34.54",
         "46.96",
         "60.18",
         "322.5",
         "157.5",
         "70.39",
         "74.71"
        ],
        [
         "3",
         "2025-07-30 14:45:29",
         "0.0",
         "0.0",
         "0.0",
         "0.0",
         "0.34",
         "0.9",
         "0.0",
         "0.0"
        ],
        [
         "4",
         "2025-07-30 14:46:29",
         "11.0",
         "18.46",
         "25.11",
         "32.86",
         "210.89",
         "124.11",
         "39.64",
         "43.93"
        ]
       ],
       "shape": {
        "columns": 9,
        "rows": 5
       }
      },
      "text/html": [
       "<div>\n",
       "<style scoped>\n",
       "    .dataframe tbody tr th:only-of-type {\n",
       "        vertical-align: middle;\n",
       "    }\n",
       "\n",
       "    .dataframe tbody tr th {\n",
       "        vertical-align: top;\n",
       "    }\n",
       "\n",
       "    .dataframe thead th {\n",
       "        text-align: right;\n",
       "    }\n",
       "</style>\n",
       "<table border=\"1\" class=\"dataframe\">\n",
       "  <thead>\n",
       "    <tr style=\"text-align: right;\">\n",
       "      <th></th>\n",
       "      <th>Timestamp</th>\n",
       "      <th>F1_415nm</th>\n",
       "      <th>F2_445nm</th>\n",
       "      <th>F3_480nm</th>\n",
       "      <th>F4_515nm</th>\n",
       "      <th>F5_555nm</th>\n",
       "      <th>F6_590nm</th>\n",
       "      <th>F7_630nm</th>\n",
       "      <th>F8_680nm</th>\n",
       "    </tr>\n",
       "  </thead>\n",
       "  <tbody>\n",
       "    <tr>\n",
       "      <th>0</th>\n",
       "      <td>2025-07-30 14:42:29</td>\n",
       "      <td>7.29</td>\n",
       "      <td>21.14</td>\n",
       "      <td>19.07</td>\n",
       "      <td>55.82</td>\n",
       "      <td>539.54</td>\n",
       "      <td>164.93</td>\n",
       "      <td>51.96</td>\n",
       "      <td>35.46</td>\n",
       "    </tr>\n",
       "    <tr>\n",
       "      <th>1</th>\n",
       "      <td>2025-07-30 14:43:29</td>\n",
       "      <td>7.66</td>\n",
       "      <td>12.83</td>\n",
       "      <td>17.14</td>\n",
       "      <td>21.83</td>\n",
       "      <td>107.90</td>\n",
       "      <td>46.34</td>\n",
       "      <td>25.66</td>\n",
       "      <td>26.28</td>\n",
       "    </tr>\n",
       "    <tr>\n",
       "      <th>2</th>\n",
       "      <td>2025-07-30 14:44:29</td>\n",
       "      <td>20.79</td>\n",
       "      <td>34.54</td>\n",
       "      <td>46.96</td>\n",
       "      <td>60.18</td>\n",
       "      <td>322.50</td>\n",
       "      <td>157.50</td>\n",
       "      <td>70.39</td>\n",
       "      <td>74.71</td>\n",
       "    </tr>\n",
       "    <tr>\n",
       "      <th>3</th>\n",
       "      <td>2025-07-30 14:45:29</td>\n",
       "      <td>0.00</td>\n",
       "      <td>0.00</td>\n",
       "      <td>0.00</td>\n",
       "      <td>0.00</td>\n",
       "      <td>0.34</td>\n",
       "      <td>0.90</td>\n",
       "      <td>0.00</td>\n",
       "      <td>0.00</td>\n",
       "    </tr>\n",
       "    <tr>\n",
       "      <th>4</th>\n",
       "      <td>2025-07-30 14:46:29</td>\n",
       "      <td>11.00</td>\n",
       "      <td>18.46</td>\n",
       "      <td>25.11</td>\n",
       "      <td>32.86</td>\n",
       "      <td>210.89</td>\n",
       "      <td>124.11</td>\n",
       "      <td>39.64</td>\n",
       "      <td>43.93</td>\n",
       "    </tr>\n",
       "  </tbody>\n",
       "</table>\n",
       "</div>"
      ],
      "text/plain": [
       "             Timestamp  F1_415nm  F2_445nm  F3_480nm  F4_515nm  F5_555nm  \\\n",
       "0  2025-07-30 14:42:29      7.29     21.14     19.07     55.82    539.54   \n",
       "1  2025-07-30 14:43:29      7.66     12.83     17.14     21.83    107.90   \n",
       "2  2025-07-30 14:44:29     20.79     34.54     46.96     60.18    322.50   \n",
       "3  2025-07-30 14:45:29      0.00      0.00      0.00      0.00      0.34   \n",
       "4  2025-07-30 14:46:29     11.00     18.46     25.11     32.86    210.89   \n",
       "\n",
       "   F6_590nm  F7_630nm  F8_680nm  \n",
       "0    164.93     51.96     35.46  \n",
       "1     46.34     25.66     26.28  \n",
       "2    157.50     70.39     74.71  \n",
       "3      0.90      0.00      0.00  \n",
       "4    124.11     39.64     43.93  "
      ]
     },
     "execution_count": 3,
     "metadata": {},
     "output_type": "execute_result"
    }
   ],
   "source": [
    "df.head()"
   ]
  }
 ],
 "metadata": {
  "kernelspec": {
   "display_name": "Python 3",
   "language": "python",
   "name": "python3"
  },
  "language_info": {
   "codemirror_mode": {
    "name": "ipython",
    "version": 3
   },
   "file_extension": ".py",
   "mimetype": "text/x-python",
   "name": "python",
   "nbconvert_exporter": "python",
   "pygments_lexer": "ipython3",
   "version": "3.11.8"
  }
 },
 "nbformat": 4,
 "nbformat_minor": 5
}
